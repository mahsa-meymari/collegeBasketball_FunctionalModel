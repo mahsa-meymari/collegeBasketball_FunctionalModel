{
  "nbformat": 4,
  "nbformat_minor": 0,
  "metadata": {
    "colab": {
      "name": "collegeBasketball_functionalModel.ipynb",
      "provenance": [],
      "collapsed_sections": [
        "4SP2z2CwlaRB"
      ],
      "toc_visible": true
    },
    "kernelspec": {
      "name": "python3",
      "display_name": "Python 3"
    }
  },
  "cells": [
    {
      "cell_type": "markdown",
      "metadata": {
        "id": "mLsuOBg3lQZr",
        "colab_type": "text"
      },
      "source": [
        "Import some Prerequisites"
      ]
    },
    {
      "cell_type": "code",
      "metadata": {
        "id": "gTkFnRjeyXTV",
        "colab_type": "code",
        "colab": {}
      },
      "source": [
        "from keras.layers import Input,Dense,Embedding,Flatten,Subtract,Concatenate\n",
        "from keras.models import Model\n",
        "from keras.utils import plot_model\n",
        "from matplotlib import pyplot as plt\n",
        "import pandas as pd\n",
        "from sklearn.model_selection import train_test_split\n",
        "from keras.callbacks import EarlyStopping\n",
        "import numpy as np\n",
        "import random"
      ],
      "execution_count": 0,
      "outputs": []
    },
    {
      "cell_type": "markdown",
      "metadata": {
        "id": "_eubk1u8G13n",
        "colab_type": "text"
      },
      "source": [
        "# Load datasets"
      ]
    },
    {
      "cell_type": "markdown",
      "metadata": {
        "id": "qKp4TLNfZC-8",
        "colab_type": "text"
      },
      "source": [
        "load games season data and split train and test data"
      ]
    },
    {
      "cell_type": "code",
      "metadata": {
        "id": "8LnHLxQ47OS5",
        "colab_type": "code",
        "outputId": "07c14b82-998e-482a-a78e-b02514cebf04",
        "colab": {
          "base_uri": "https://localhost:8080/",
          "height": 119
        }
      },
      "source": [
        "season_games = pd.read_csv('games_season.csv')\n",
        "print(season_games.head())\n",
        "season_X = season_games[['team_1','team_2','home']]\n",
        "season_y = season_games.score_diff"
      ],
      "execution_count": 4,
      "outputs": [
        {
          "output_type": "stream",
          "text": [
            "   season  team_1  team_2  home  score_diff  score_1  score_2  won\n",
            "0    1985    3745    6664     0          17       81       64    1\n",
            "1    1985     126    7493     1           7       77       70    1\n",
            "2    1985     288    3593     1           7       63       56    1\n",
            "3    1985    1846    9881     1          16       70       54    1\n",
            "4    1985    2675   10298     1          12       86       74    1\n"
          ],
          "name": "stdout"
        }
      ]
    },
    {
      "cell_type": "markdown",
      "metadata": {
        "id": "0dUbR87rvpJe",
        "colab_type": "text"
      },
      "source": [
        "Load tourney data"
      ]
    },
    {
      "cell_type": "code",
      "metadata": {
        "id": "b4SL_C9TvoH-",
        "colab_type": "code",
        "outputId": "f8164568-afeb-4461-f87d-e55891544f6a",
        "colab": {
          "base_uri": "https://localhost:8080/",
          "height": 119
        }
      },
      "source": [
        "tourney_games = pd.read_csv('games_tourney.csv')\n",
        "print(tourney_games.head())"
      ],
      "execution_count": 5,
      "outputs": [
        {
          "output_type": "stream",
          "text": [
            "   season  team_1  team_2  home  seed_diff  score_diff  score_1  score_2  won\n",
            "0    1985     288      73     0         -3          -9       41       50    0\n",
            "1    1985    5929      73     0          4           6       61       55    1\n",
            "2    1985    9884      73     0          5          -4       59       63    0\n",
            "3    1985      73     288     0          3           9       50       41    1\n",
            "4    1985    3920     410     0          1          -9       54       63    0\n"
          ],
          "name": "stdout"
        }
      ]
    },
    {
      "cell_type": "markdown",
      "metadata": {
        "id": "4SP2z2CwlaRB",
        "colab_type": "text"
      },
      "source": [
        "# Build a model on season games dataset\n",
        "(first a model is builded as sharing multiple layer then main model is created )"
      ]
    },
    {
      "cell_type": "markdown",
      "metadata": {
        "id": "MwFa4ojsCy2l",
        "colab_type": "text"
      },
      "source": [
        "Build a model to findout strength of a team using Category embedding layers"
      ]
    },
    {
      "cell_type": "code",
      "metadata": {
        "id": "Aohmd0Ds1BiR",
        "colab_type": "code",
        "outputId": "4d6b548b-ce9c-46b1-ab69-213b451c7328",
        "colab": {
          "base_uri": "https://localhost:8080/",
          "height": 0
        }
      },
      "source": [
        "n_teams = np.unique(season_games.team_1).shape[0]\n",
        "\n",
        "input_tensor = Input((1,))\n",
        "\n",
        "embed_tensor = Embedding(input_dim=n_teams\n",
        "                         ,output_dim=1\n",
        "                         ,input_length=1\n",
        "                         ,name='Team_Strength')(input_tensor)\n",
        "\n",
        "flatten_tensor = Flatten()(embed_tensor)\n",
        "\n",
        "strength_of_teams_model=Model(input_tensor,flatten_tensor,name='strength_of_teams')\n",
        "\n",
        "plot_model(strength_of_teams_model,to_file='strength_of_teams_model.png')"
      ],
      "execution_count": 6,
      "outputs": [
        {
          "output_type": "execute_result",
          "data": {
            "image/png": "[encoded data removed]",
            "text/plain": [
              "<IPython.core.display.Image object>"
            ]
          },
          "metadata": {
            "tags": []
          },
          "execution_count": 6
        }
      ]
    },
    {
      "cell_type": "markdown",
      "metadata": {
        "id": "00y8NY0TjWO8",
        "colab_type": "text"
      },
      "source": [
        "Build a model to calculate diffrence between teams strength using their id's **(using last model as sharing multiple layers)**"
      ]
    },
    {
      "cell_type": "code",
      "metadata": {
        "id": "DAOZVn1HjVoz",
        "colab_type": "code",
        "outputId": "efc8f9e0-43ca-4076-827c-34d5fa88730e",
        "colab": {
          "base_uri": "https://localhost:8080/",
          "height": 0
        }
      },
      "source": [
        "input_tensor_1 = Input((1,),name='Team1_ID')\n",
        "input_tensor_2 = Input((1,),name='Team2_ID')\n",
        "input_tensor_3 = Input((1,),name='home_away')\n",
        "\n",
        "output_tensor_1 = strength_of_teams_model(input_tensor_1)\n",
        "output_tensor_2 = strength_of_teams_model(input_tensor_2)\n",
        "\n",
        "concated_tensor = Concatenate()([output_tensor_1,output_tensor_2,input_tensor_3])\n",
        "\n",
        "# hiddent_tensor = Dense(5)(inputs_of_dense)\n",
        "\n",
        "hidden_tensor = Dense(5)(concated_tensor)\n",
        "\n",
        "output_tensor = Dense(1,name='predict_score_diff')(hidden_tensor)\n",
        "\n",
        "season_model = Model([input_tensor_1,input_tensor_2,input_tensor_3],output_tensor)\n",
        "plot_model(season_model,to_file='season_model.png')"
      ],
      "execution_count": 7,
      "outputs": [
        {
          "output_type": "execute_result",
          "data": {
            "image/png": "[encoded data removed]",
            "text/plain": [
              "<IPython.core.display.Image object>"
            ]
          },
          "metadata": {
            "tags": []
          },
          "execution_count": 7
        }
      ]
    },
    {
      "cell_type": "code",
      "metadata": {
        "id": "t-v4rLn_qGN4",
        "colab_type": "code",
        "outputId": "37dd8071-8e4b-40da-a2dd-9884cedbbec8",
        "colab": {
          "base_uri": "https://localhost:8080/",
          "height": 0
        }
      },
      "source": [
        "season_model.summary()\n",
        "season_model.compile(optimizer='adam',loss='mae')"
      ],
      "execution_count": 8,
      "outputs": [
        {
          "output_type": "stream",
          "text": [
            "Model: \"model_1\"\n",
            "__________________________________________________________________________________________________\n",
            "Layer (type)                    Output Shape         Param #     Connected to                     \n",
            "==================================================================================================\n",
            "Team1_ID (InputLayer)           (None, 1)            0                                            \n",
            "__________________________________________________________________________________________________\n",
            "Team2_ID (InputLayer)           (None, 1)            0                                            \n",
            "__________________________________________________________________________________________________\n",
            "strength_of_teams (Model)       (None, 1)            10888       Team1_ID[0][0]                   \n",
            "                                                                 Team2_ID[0][0]                   \n",
            "__________________________________________________________________________________________________\n",
            "home_away (InputLayer)          (None, 1)            0                                            \n",
            "__________________________________________________________________________________________________\n",
            "concatenate_1 (Concatenate)     (None, 3)            0           strength_of_teams[1][0]          \n",
            "                                                                 strength_of_teams[2][0]          \n",
            "                                                                 home_away[0][0]                  \n",
            "__________________________________________________________________________________________________\n",
            "dense_1 (Dense)                 (None, 5)            20          concatenate_1[0][0]              \n",
            "__________________________________________________________________________________________________\n",
            "predict_score_diff (Dense)      (None, 1)            6           dense_1[0][0]                    \n",
            "==================================================================================================\n",
            "Total params: 10,914\n",
            "Trainable params: 10,914\n",
            "Non-trainable params: 0\n",
            "__________________________________________________________________________________________________\n"
          ],
          "name": "stdout"
        }
      ]
    },
    {
      "cell_type": "markdown",
      "metadata": {
        "id": "noYlU92esT9u",
        "colab_type": "text"
      },
      "source": [
        "# Train the season games model\n",
        "(the input is team_1 and team_2 ID's and home or away the expected output is score diffrence)"
      ]
    },
    {
      "cell_type": "code",
      "metadata": {
        "id": "wUyYq9ob9EUI",
        "colab_type": "code",
        "outputId": "959357d8-3f30-4b76-8d12-cb49b9dc60e9",
        "colab": {
          "base_uri": "https://localhost:8080/",
          "height": 71
        }
      },
      "source": [
        "hist= season_model.fit([season_X['team_1'],season_X['team_2'],season_X['home']]\n",
        "                ,season_y\n",
        "                ,epochs=50\n",
        "                ,batch_size=256\n",
        "                ,validation_split=0.1\n",
        "                ,verbose=0\n",
        "                ,callbacks =[EarlyStopping(patience=2)]\n",
        "                )"
      ],
      "execution_count": 9,
      "outputs": [
        {
          "output_type": "stream",
          "text": [
            "/usr/local/lib/python3.6/dist-packages/tensorflow/python/framework/indexed_slices.py:434: UserWarning: Converting sparse IndexedSlices to a dense Tensor of unknown shape. This may consume a large amount of memory.\n",
            "  \"Converting sparse IndexedSlices to a dense Tensor of unknown shape. \"\n"
          ],
          "name": "stderr"
        }
      ]
    },
    {
      "cell_type": "code",
      "metadata": {
        "id": "CF7e69ff9bsq",
        "colab_type": "code",
        "outputId": "c7184f3a-7274-4826-f811-dda014517f38",
        "colab": {
          "base_uri": "https://localhost:8080/",
          "height": 281
        }
      },
      "source": [
        "plt.plot(hist.history['loss'])\n",
        "plt.plot(hist.history['val_loss'])\n",
        "plt.title('loss')\n",
        "plt.legend(['loss','val_loss'])\n",
        "plt.show()"
      ],
      "execution_count": 10,
      "outputs": [
        {
          "output_type": "display_data",
          "data": {
            "image/png": "[encoded data removed]",
            "text/plain": [
              "<Figure size 432x288 with 1 Axes>"
            ]
          },
          "metadata": {
            "tags": [],
            "needs_background": "light"
          }
        }
      ]
    },
    {
      "cell_type": "code",
      "metadata": {
        "id": "U399jNQF_A4X",
        "colab_type": "code",
        "outputId": "fae641f3-c3b4-427b-f4e8-f4d412b3f512",
        "colab": {
          "base_uri": "https://localhost:8080/",
          "height": 51
        }
      },
      "source": [
        "season_model.evaluate([tourney_games['team_1'],tourney_games['team_2'],tourney_games['home']],tourney_games['score_diff'])"
      ],
      "execution_count": 11,
      "outputs": [
        {
          "output_type": "stream",
          "text": [
            "4234/4234 [==============================] - 0s 17us/step\n"
          ],
          "name": "stdout"
        },
        {
          "output_type": "execute_result",
          "data": {
            "text/plain": [
              "9.038659671933008"
            ]
          },
          "metadata": {
            "tags": []
          },
          "execution_count": 11
        }
      ]
    },
    {
      "cell_type": "markdown",
      "metadata": {
        "id": "9WGd-3lIJV-4",
        "colab_type": "text"
      },
      "source": [
        "# Build a single model for classification and regression on tourney dataset \n",
        "(season games model predictions is used as an input of tourney model \"stacking models\")"
      ]
    },
    {
      "cell_type": "markdown",
      "metadata": {
        "id": "G3R8uoH3FwCy",
        "colab_type": "text"
      },
      "source": [
        "split games tourney dataset to train and test data"
      ]
    },
    {
      "cell_type": "code",
      "metadata": {
        "id": "Ii0a-7ppF2-r",
        "colab_type": "code",
        "colab": {}
      },
      "source": [
        "tourney_games['pred'] = season_model.predict([tourney_games['team_1'],tourney_games['team_2'],tourney_games['home']])\n",
        "tourney_X_train, tourney_X_test, tourney_y_train , tourney_y_test = train_test_split(\n",
        "    tourney_games[['seed_diff','pred']]\n",
        "                 , tourney_games[['score_diff','won']]\n",
        "                 , test_size=0.20)"
      ],
      "execution_count": 0,
      "outputs": []
    },
    {
      "cell_type": "code",
      "metadata": {
        "id": "WVW28eYmN_Iz",
        "colab_type": "code",
        "outputId": "c0db32d1-ff44-4955-9771-179a75ff4045",
        "colab": {
          "base_uri": "https://localhost:8080/",
          "height": 369
        }
      },
      "source": [
        "input_tensor = Input((2,))\n",
        "hidden_tensor = Dense(5)(input_tensor)\n",
        "\n",
        "reg_output_tensor = Dense(1,name='regression')(hidden_tensor)\n",
        "class_output_tensor =Dense(1,activation='sigmoid',name='classification')(reg_output_tensor)\n",
        "\n",
        "tourney_model = Model(input_tensor,[reg_output_tensor,class_output_tensor])\n",
        "\n",
        "plot_model(tourney_model,to_file='tourney_model.png')"
      ],
      "execution_count": 13,
      "outputs": [
        {
          "output_type": "execute_result",
          "data": {
            "image/png": "[encoded data removed]",
            "text/plain": [
              "<IPython.core.display.Image object>"
            ]
          },
          "metadata": {
            "tags": []
          },
          "execution_count": 13
        }
      ]
    },
    {
      "cell_type": "code",
      "metadata": {
        "id": "A7LrLbDSRjrM",
        "colab_type": "code",
        "outputId": "7f1ae6ad-eded-46bd-8c09-a17c25e3b47d",
        "colab": {
          "base_uri": "https://localhost:8080/",
          "height": 289
        }
      },
      "source": [
        "tourney_model.compile(optimizer='adam',loss=['mae','binary_crossentropy'])\n",
        "tourney_model.summary()"
      ],
      "execution_count": 14,
      "outputs": [
        {
          "output_type": "stream",
          "text": [
            "Model: \"model_2\"\n",
            "_________________________________________________________________\n",
            "Layer (type)                 Output Shape              Param #   \n",
            "=================================================================\n",
            "input_2 (InputLayer)         (None, 2)                 0         \n",
            "_________________________________________________________________\n",
            "dense_2 (Dense)              (None, 5)                 15        \n",
            "_________________________________________________________________\n",
            "regression (Dense)           (None, 1)                 6         \n",
            "_________________________________________________________________\n",
            "classification (Dense)       (None, 1)                 2         \n",
            "=================================================================\n",
            "Total params: 23\n",
            "Trainable params: 23\n",
            "Non-trainable params: 0\n",
            "_________________________________________________________________\n"
          ],
          "name": "stdout"
        }
      ]
    },
    {
      "cell_type": "markdown",
      "metadata": {
        "id": "yhu4Eb1DYbHK",
        "colab_type": "text"
      },
      "source": [
        "# Train tourney model"
      ]
    },
    {
      "cell_type": "code",
      "metadata": {
        "id": "poX_YLoWVpFO",
        "colab_type": "code",
        "colab": {}
      },
      "source": [
        "hist = tourney_model.fit(tourney_X_train\n",
        "                  ,[tourney_y_train.score_diff,tourney_y_train.won]\n",
        "                  ,epochs =100\n",
        "                  ,validation_split=0.2\n",
        "                  ,verbose=0\n",
        "                  ,callbacks =[EarlyStopping(patience=2)])"
      ],
      "execution_count": 0,
      "outputs": []
    },
    {
      "cell_type": "code",
      "metadata": {
        "id": "Yr03yoZCWOQy",
        "colab_type": "code",
        "outputId": "c4f4a00e-263c-43b8-f921-437d323a8ce6",
        "colab": {
          "base_uri": "https://localhost:8080/",
          "height": 281
        }
      },
      "source": [
        "plt.plot(hist.history['loss'])\n",
        "plt.plot(hist.history['val_loss'])\n",
        "plt.title('loss')\n",
        "plt.legend(['loss','val_loss'])\n",
        "plt.show()"
      ],
      "execution_count": 16,
      "outputs": [
        {
          "output_type": "display_data",
          "data": {
            "image/png": "[encoded data removed]",
            "text/plain": [
              "<Figure size 432x288 with 1 Axes>"
            ]
          },
          "metadata": {
            "tags": [],
            "needs_background": "light"
          }
        }
      ]
    },
    {
      "cell_type": "code",
      "metadata": {
        "id": "mPF7stLCWsLc",
        "colab_type": "code",
        "outputId": "e4fe6d4e-d202-4633-c9dd-7210c602ff87",
        "colab": {
          "base_uri": "https://localhost:8080/",
          "height": 51
        }
      },
      "source": [
        "tourney_model.evaluate(tourney_X_test,[tourney_y_test.score_diff,tourney_y_test.won])"
      ],
      "execution_count": 17,
      "outputs": [
        {
          "output_type": "stream",
          "text": [
            "847/847 [==============================] - 0s 22us/step\n"
          ],
          "name": "stdout"
        },
        {
          "output_type": "execute_result",
          "data": {
            "text/plain": [
              "[9.278261574268903, 8.73940658569336, 0.5352919697761536]"
            ]
          },
          "metadata": {
            "tags": []
          },
          "execution_count": 17
        }
      ]
    },
    {
      "cell_type": "markdown",
      "metadata": {
        "id": "Klzb-JA1ZSjl",
        "colab_type": "text"
      },
      "source": [
        "# prediction Time:)"
      ]
    },
    {
      "cell_type": "code",
      "metadata": {
        "id": "ImCIPlAhZYAd",
        "colab_type": "code",
        "outputId": "913cf8b2-be78-4854-d6dd-339aedc6a04f",
        "colab": {
          "base_uri": "https://localhost:8080/",
          "height": 170
        }
      },
      "source": [
        "ind = random.randint(0,len(tourney_y_test))\n",
        "print( 'input data:\\n{}'.format( tourney_X_test.iloc[[ind]] ) )\n",
        "print( '\\nactual result =\\n{}'.format( tourney_y_test.iloc[[ind]] ) )\n",
        "pred = np.array(tourney_model.predict( tourney_X_test ))[:,ind,0]\n",
        "predict_won = 'win' if np.round(pred[1])==1 else 'lose'\n",
        "print( '\\npredicted score diffrence = {} and model predicts team_1 will {} '.format(np.round(pred[0]) , predict_won) )"
      ],
      "execution_count": 41,
      "outputs": [
        {
          "output_type": "stream",
          "text": [
            "input data:\n",
            "     seed_diff      pred\n",
            "266         -3 -7.232653\n",
            "\n",
            "actual result =\n",
            "     score_diff  won\n",
            "266          -8    0\n",
            "\n",
            "predicted score diffrence = -5.0 and model predicts team_1 will lose \n"
          ],
          "name": "stdout"
        }
      ]
    }
  ]
}